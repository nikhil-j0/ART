{
 "cells": [
  {
   "cell_type": "code",
   "execution_count": null,
   "metadata": {
    "id": "2ejgl9-6oBBO"
   },
   "outputs": [],
   "source": [
    "import numpy as np"
   ]
  },
  {
   "cell_type": "code",
   "execution_count": null,
   "metadata": {
    "id": "PhZVb6mOdZH7"
   },
   "outputs": [],
   "source": [
    "class ART1:\n",
    "    def __init__(self, num_features, vigilance):\n",
    "        self.num_features = num_features\n",
    "        self.vigilance = vigilance\n",
    "        self.weights = np.zeros((1, num_features))\n",
    "        self.category = -1\n",
    "\n",
    "    def train(self, x):\n",
    "        while True:\n",
    "            net = np.dot(self.weights, x)\n",
    "            rho = np.sum(net) / self.num_features\n",
    "            if rho >= self.vigilance:\n",
    "                self.weights = np.vstack((self.weights, x))\n",
    "                self.category += 1\n",
    "                break\n",
    "            else:\n",
    "                x = np.multiply(x, net)\n",
    "                if np.sum(x) == 0:\n",
    "                    break\n",
    "\n",
    "    def predict(self, x):\n",
    "        net = np.dot(self.weights, x)\n",
    "        rho = np.sum(net) / self.num_features\n",
    "        if rho >= self.vigilance:\n",
    "            return self.category\n",
    "        else:\n",
    "            return -1                   \n",
    "\n",
    "               "
   ]
  },
  {
   "cell_type": "code",
   "execution_count": null,
   "metadata": {
    "id": "Bqq9xy42imPs"
   },
   "outputs": [],
   "source": [
    "art = ART1(4, 0.5)"
   ]
  },
  {
   "cell_type": "code",
   "execution_count": null,
   "metadata": {
    "id": "xnJijlP5isAZ"
   },
   "outputs": [],
   "source": [
    "art.train(np.array([1, 1, 0, 0]))\n",
    "art.train(np.array([0, 0, 1, 1]))\n"
   ]
  },
  {
   "cell_type": "code",
   "execution_count": null,
   "metadata": {
    "colab": {
     "base_uri": "https://localhost:8080/"
    },
    "id": "6e7TnBAGivFY",
    "outputId": "0cfe0104-3118-438a-fef8-86c02e021f99"
   },
   "outputs": [
    {
     "name": "stdout",
     "output_type": "stream",
     "text": [
      "-1\n"
     ]
    }
   ],
   "source": [
    "category = art.predict(np.array([0, 1, 0, 0]))\n",
    "print(category)"
   ]
  }
 ],
 "metadata": {
  "colab": {
   "provenance": []
  },
  "kernelspec": {
   "display_name": "Python 3 (ipykernel)",
   "language": "python",
   "name": "python3"
  },
  "language_info": {
   "codemirror_mode": {
    "name": "ipython",
    "version": 3
   },
   "file_extension": ".py",
   "mimetype": "text/x-python",
   "name": "python",
   "nbconvert_exporter": "python",
   "pygments_lexer": "ipython3",
   "version": "3.10.9"
  }
 },
 "nbformat": 4,
 "nbformat_minor": 1
}
